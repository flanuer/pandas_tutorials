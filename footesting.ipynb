{
 "cells": [
  {
   "cell_type": "code",
   "execution_count": 25,
   "metadata": {},
   "outputs": [],
   "source": [
    "import pandas as pd"
   ]
  },
  {
   "cell_type": "code",
   "execution_count": 26,
   "metadata": {},
   "outputs": [],
   "source": [
    "%matplotlib inline"
   ]
  },
  {
   "cell_type": "code",
   "execution_count": 27,
   "metadata": {},
   "outputs": [],
   "source": [
    "df1 = pd.read_csv(\"/home/scott/projects/python/module_training/learning_pandas/pandasLab/share/GlobalTemperatures.csv\")"
   ]
  },
  {
   "cell_type": "code",
   "execution_count": 28,
   "metadata": {},
   "outputs": [
    {
     "data": {
      "text/html": [
       "<div>\n",
       "<style scoped>\n",
       "    .dataframe tbody tr th:only-of-type {\n",
       "        vertical-align: middle;\n",
       "    }\n",
       "\n",
       "    .dataframe tbody tr th {\n",
       "        vertical-align: top;\n",
       "    }\n",
       "\n",
       "    .dataframe thead th {\n",
       "        text-align: right;\n",
       "    }\n",
       "</style>\n",
       "<table border=\"1\" class=\"dataframe\">\n",
       "  <thead>\n",
       "    <tr style=\"text-align: right;\">\n",
       "      <th></th>\n",
       "      <th>dt</th>\n",
       "      <th>LandAverageTemperature</th>\n",
       "      <th>LandAverageTemperatureUncertainty</th>\n",
       "      <th>LandMaxTemperature</th>\n",
       "      <th>LandMaxTemperatureUncertainty</th>\n",
       "      <th>LandMinTemperature</th>\n",
       "      <th>LandMinTemperatureUncertainty</th>\n",
       "      <th>LandAndOceanAverageTemperature</th>\n",
       "      <th>LandAndOceanAverageTemperatureUncertainty</th>\n",
       "    </tr>\n",
       "  </thead>\n",
       "  <tbody>\n",
       "    <tr>\n",
       "      <th>0</th>\n",
       "      <td>1750-01-01</td>\n",
       "      <td>3.034</td>\n",
       "      <td>3.574</td>\n",
       "      <td>NaN</td>\n",
       "      <td>NaN</td>\n",
       "      <td>NaN</td>\n",
       "      <td>NaN</td>\n",
       "      <td>NaN</td>\n",
       "      <td>NaN</td>\n",
       "    </tr>\n",
       "    <tr>\n",
       "      <th>1</th>\n",
       "      <td>1750-02-01</td>\n",
       "      <td>3.083</td>\n",
       "      <td>3.702</td>\n",
       "      <td>NaN</td>\n",
       "      <td>NaN</td>\n",
       "      <td>NaN</td>\n",
       "      <td>NaN</td>\n",
       "      <td>NaN</td>\n",
       "      <td>NaN</td>\n",
       "    </tr>\n",
       "    <tr>\n",
       "      <th>2</th>\n",
       "      <td>1750-03-01</td>\n",
       "      <td>5.626</td>\n",
       "      <td>3.076</td>\n",
       "      <td>NaN</td>\n",
       "      <td>NaN</td>\n",
       "      <td>NaN</td>\n",
       "      <td>NaN</td>\n",
       "      <td>NaN</td>\n",
       "      <td>NaN</td>\n",
       "    </tr>\n",
       "    <tr>\n",
       "      <th>3</th>\n",
       "      <td>1750-04-01</td>\n",
       "      <td>8.490</td>\n",
       "      <td>2.451</td>\n",
       "      <td>NaN</td>\n",
       "      <td>NaN</td>\n",
       "      <td>NaN</td>\n",
       "      <td>NaN</td>\n",
       "      <td>NaN</td>\n",
       "      <td>NaN</td>\n",
       "    </tr>\n",
       "    <tr>\n",
       "      <th>4</th>\n",
       "      <td>1750-05-01</td>\n",
       "      <td>11.573</td>\n",
       "      <td>2.072</td>\n",
       "      <td>NaN</td>\n",
       "      <td>NaN</td>\n",
       "      <td>NaN</td>\n",
       "      <td>NaN</td>\n",
       "      <td>NaN</td>\n",
       "      <td>NaN</td>\n",
       "    </tr>\n",
       "    <tr>\n",
       "      <th>...</th>\n",
       "      <td>...</td>\n",
       "      <td>...</td>\n",
       "      <td>...</td>\n",
       "      <td>...</td>\n",
       "      <td>...</td>\n",
       "      <td>...</td>\n",
       "      <td>...</td>\n",
       "      <td>...</td>\n",
       "      <td>...</td>\n",
       "    </tr>\n",
       "    <tr>\n",
       "      <th>3187</th>\n",
       "      <td>2015-08-01</td>\n",
       "      <td>14.755</td>\n",
       "      <td>0.072</td>\n",
       "      <td>20.699</td>\n",
       "      <td>0.110</td>\n",
       "      <td>9.005</td>\n",
       "      <td>0.170</td>\n",
       "      <td>17.589</td>\n",
       "      <td>0.057</td>\n",
       "    </tr>\n",
       "    <tr>\n",
       "      <th>3188</th>\n",
       "      <td>2015-09-01</td>\n",
       "      <td>12.999</td>\n",
       "      <td>0.079</td>\n",
       "      <td>18.845</td>\n",
       "      <td>0.088</td>\n",
       "      <td>7.199</td>\n",
       "      <td>0.229</td>\n",
       "      <td>17.049</td>\n",
       "      <td>0.058</td>\n",
       "    </tr>\n",
       "    <tr>\n",
       "      <th>3189</th>\n",
       "      <td>2015-10-01</td>\n",
       "      <td>10.801</td>\n",
       "      <td>0.102</td>\n",
       "      <td>16.450</td>\n",
       "      <td>0.059</td>\n",
       "      <td>5.232</td>\n",
       "      <td>0.115</td>\n",
       "      <td>16.290</td>\n",
       "      <td>0.062</td>\n",
       "    </tr>\n",
       "    <tr>\n",
       "      <th>3190</th>\n",
       "      <td>2015-11-01</td>\n",
       "      <td>7.433</td>\n",
       "      <td>0.119</td>\n",
       "      <td>12.892</td>\n",
       "      <td>0.093</td>\n",
       "      <td>2.157</td>\n",
       "      <td>0.106</td>\n",
       "      <td>15.252</td>\n",
       "      <td>0.063</td>\n",
       "    </tr>\n",
       "    <tr>\n",
       "      <th>3191</th>\n",
       "      <td>2015-12-01</td>\n",
       "      <td>5.518</td>\n",
       "      <td>0.100</td>\n",
       "      <td>10.725</td>\n",
       "      <td>0.154</td>\n",
       "      <td>0.287</td>\n",
       "      <td>0.099</td>\n",
       "      <td>14.774</td>\n",
       "      <td>0.062</td>\n",
       "    </tr>\n",
       "  </tbody>\n",
       "</table>\n",
       "<p>3192 rows × 9 columns</p>\n",
       "</div>"
      ],
      "text/plain": [
       "              dt  LandAverageTemperature  LandAverageTemperatureUncertainty  \\\n",
       "0     1750-01-01                   3.034                              3.574   \n",
       "1     1750-02-01                   3.083                              3.702   \n",
       "2     1750-03-01                   5.626                              3.076   \n",
       "3     1750-04-01                   8.490                              2.451   \n",
       "4     1750-05-01                  11.573                              2.072   \n",
       "...          ...                     ...                                ...   \n",
       "3187  2015-08-01                  14.755                              0.072   \n",
       "3188  2015-09-01                  12.999                              0.079   \n",
       "3189  2015-10-01                  10.801                              0.102   \n",
       "3190  2015-11-01                   7.433                              0.119   \n",
       "3191  2015-12-01                   5.518                              0.100   \n",
       "\n",
       "      LandMaxTemperature  LandMaxTemperatureUncertainty  LandMinTemperature  \\\n",
       "0                    NaN                            NaN                 NaN   \n",
       "1                    NaN                            NaN                 NaN   \n",
       "2                    NaN                            NaN                 NaN   \n",
       "3                    NaN                            NaN                 NaN   \n",
       "4                    NaN                            NaN                 NaN   \n",
       "...                  ...                            ...                 ...   \n",
       "3187              20.699                          0.110               9.005   \n",
       "3188              18.845                          0.088               7.199   \n",
       "3189              16.450                          0.059               5.232   \n",
       "3190              12.892                          0.093               2.157   \n",
       "3191              10.725                          0.154               0.287   \n",
       "\n",
       "      LandMinTemperatureUncertainty  LandAndOceanAverageTemperature  \\\n",
       "0                               NaN                             NaN   \n",
       "1                               NaN                             NaN   \n",
       "2                               NaN                             NaN   \n",
       "3                               NaN                             NaN   \n",
       "4                               NaN                             NaN   \n",
       "...                             ...                             ...   \n",
       "3187                          0.170                          17.589   \n",
       "3188                          0.229                          17.049   \n",
       "3189                          0.115                          16.290   \n",
       "3190                          0.106                          15.252   \n",
       "3191                          0.099                          14.774   \n",
       "\n",
       "      LandAndOceanAverageTemperatureUncertainty  \n",
       "0                                           NaN  \n",
       "1                                           NaN  \n",
       "2                                           NaN  \n",
       "3                                           NaN  \n",
       "4                                           NaN  \n",
       "...                                         ...  \n",
       "3187                                      0.057  \n",
       "3188                                      0.058  \n",
       "3189                                      0.062  \n",
       "3190                                      0.063  \n",
       "3191                                      0.062  \n",
       "\n",
       "[3192 rows x 9 columns]"
      ]
     },
     "execution_count": 28,
     "metadata": {},
     "output_type": "execute_result"
    }
   ],
   "source": [
    "df1\n"
   ]
  },
  {
   "cell_type": "code",
   "execution_count": 29,
   "metadata": {},
   "outputs": [
    {
     "data": {
      "text/html": [
       "<div>\n",
       "<style scoped>\n",
       "    .dataframe tbody tr th:only-of-type {\n",
       "        vertical-align: middle;\n",
       "    }\n",
       "\n",
       "    .dataframe tbody tr th {\n",
       "        vertical-align: top;\n",
       "    }\n",
       "\n",
       "    .dataframe thead th {\n",
       "        text-align: right;\n",
       "    }\n",
       "</style>\n",
       "<table border=\"1\" class=\"dataframe\">\n",
       "  <thead>\n",
       "    <tr style=\"text-align: right;\">\n",
       "      <th></th>\n",
       "      <th>LandAverageTemperature</th>\n",
       "      <th>LandAverageTemperatureUncertainty</th>\n",
       "      <th>LandMaxTemperature</th>\n",
       "      <th>LandMaxTemperatureUncertainty</th>\n",
       "      <th>LandMinTemperature</th>\n",
       "      <th>LandMinTemperatureUncertainty</th>\n",
       "      <th>LandAndOceanAverageTemperature</th>\n",
       "      <th>LandAndOceanAverageTemperatureUncertainty</th>\n",
       "    </tr>\n",
       "  </thead>\n",
       "  <tbody>\n",
       "    <tr>\n",
       "      <th>count</th>\n",
       "      <td>3180.000000</td>\n",
       "      <td>3180.000000</td>\n",
       "      <td>1992.000000</td>\n",
       "      <td>1992.000000</td>\n",
       "      <td>1992.000000</td>\n",
       "      <td>1992.000000</td>\n",
       "      <td>1992.000000</td>\n",
       "      <td>1992.000000</td>\n",
       "    </tr>\n",
       "    <tr>\n",
       "      <th>mean</th>\n",
       "      <td>8.374731</td>\n",
       "      <td>0.938468</td>\n",
       "      <td>14.350601</td>\n",
       "      <td>0.479782</td>\n",
       "      <td>2.743595</td>\n",
       "      <td>0.431849</td>\n",
       "      <td>15.212566</td>\n",
       "      <td>0.128532</td>\n",
       "    </tr>\n",
       "    <tr>\n",
       "      <th>std</th>\n",
       "      <td>4.381310</td>\n",
       "      <td>1.096440</td>\n",
       "      <td>4.309579</td>\n",
       "      <td>0.583203</td>\n",
       "      <td>4.155835</td>\n",
       "      <td>0.445838</td>\n",
       "      <td>1.274093</td>\n",
       "      <td>0.073587</td>\n",
       "    </tr>\n",
       "    <tr>\n",
       "      <th>min</th>\n",
       "      <td>-2.080000</td>\n",
       "      <td>0.034000</td>\n",
       "      <td>5.900000</td>\n",
       "      <td>0.044000</td>\n",
       "      <td>-5.407000</td>\n",
       "      <td>0.045000</td>\n",
       "      <td>12.475000</td>\n",
       "      <td>0.042000</td>\n",
       "    </tr>\n",
       "    <tr>\n",
       "      <th>25%</th>\n",
       "      <td>4.312000</td>\n",
       "      <td>0.186750</td>\n",
       "      <td>10.212000</td>\n",
       "      <td>0.142000</td>\n",
       "      <td>-1.334500</td>\n",
       "      <td>0.155000</td>\n",
       "      <td>14.047000</td>\n",
       "      <td>0.063000</td>\n",
       "    </tr>\n",
       "    <tr>\n",
       "      <th>50%</th>\n",
       "      <td>8.610500</td>\n",
       "      <td>0.392000</td>\n",
       "      <td>14.760000</td>\n",
       "      <td>0.252000</td>\n",
       "      <td>2.949500</td>\n",
       "      <td>0.279000</td>\n",
       "      <td>15.251000</td>\n",
       "      <td>0.122000</td>\n",
       "    </tr>\n",
       "    <tr>\n",
       "      <th>75%</th>\n",
       "      <td>12.548250</td>\n",
       "      <td>1.419250</td>\n",
       "      <td>18.451500</td>\n",
       "      <td>0.539000</td>\n",
       "      <td>6.778750</td>\n",
       "      <td>0.458250</td>\n",
       "      <td>16.396250</td>\n",
       "      <td>0.151000</td>\n",
       "    </tr>\n",
       "    <tr>\n",
       "      <th>max</th>\n",
       "      <td>19.021000</td>\n",
       "      <td>7.880000</td>\n",
       "      <td>21.320000</td>\n",
       "      <td>4.373000</td>\n",
       "      <td>9.715000</td>\n",
       "      <td>3.498000</td>\n",
       "      <td>17.611000</td>\n",
       "      <td>0.457000</td>\n",
       "    </tr>\n",
       "  </tbody>\n",
       "</table>\n",
       "</div>"
      ],
      "text/plain": [
       "       LandAverageTemperature  LandAverageTemperatureUncertainty  \\\n",
       "count             3180.000000                        3180.000000   \n",
       "mean                 8.374731                           0.938468   \n",
       "std                  4.381310                           1.096440   \n",
       "min                 -2.080000                           0.034000   \n",
       "25%                  4.312000                           0.186750   \n",
       "50%                  8.610500                           0.392000   \n",
       "75%                 12.548250                           1.419250   \n",
       "max                 19.021000                           7.880000   \n",
       "\n",
       "       LandMaxTemperature  LandMaxTemperatureUncertainty  LandMinTemperature  \\\n",
       "count         1992.000000                    1992.000000         1992.000000   \n",
       "mean            14.350601                       0.479782            2.743595   \n",
       "std              4.309579                       0.583203            4.155835   \n",
       "min              5.900000                       0.044000           -5.407000   \n",
       "25%             10.212000                       0.142000           -1.334500   \n",
       "50%             14.760000                       0.252000            2.949500   \n",
       "75%             18.451500                       0.539000            6.778750   \n",
       "max             21.320000                       4.373000            9.715000   \n",
       "\n",
       "       LandMinTemperatureUncertainty  LandAndOceanAverageTemperature  \\\n",
       "count                    1992.000000                     1992.000000   \n",
       "mean                        0.431849                       15.212566   \n",
       "std                         0.445838                        1.274093   \n",
       "min                         0.045000                       12.475000   \n",
       "25%                         0.155000                       14.047000   \n",
       "50%                         0.279000                       15.251000   \n",
       "75%                         0.458250                       16.396250   \n",
       "max                         3.498000                       17.611000   \n",
       "\n",
       "       LandAndOceanAverageTemperatureUncertainty  \n",
       "count                                1992.000000  \n",
       "mean                                    0.128532  \n",
       "std                                     0.073587  \n",
       "min                                     0.042000  \n",
       "25%                                     0.063000  \n",
       "50%                                     0.122000  \n",
       "75%                                     0.151000  \n",
       "max                                     0.457000  "
      ]
     },
     "execution_count": 29,
     "metadata": {},
     "output_type": "execute_result"
    }
   ],
   "source": [
    "df1.describe()"
   ]
  },
  {
   "cell_type": "code",
   "execution_count": 30,
   "metadata": {},
   "outputs": [
    {
     "data": {
      "text/plain": [
       "['dt',\n",
       " 'LandAverageTemperature',\n",
       " 'LandAverageTemperatureUncertainty',\n",
       " 'LandMaxTemperature',\n",
       " 'LandMaxTemperatureUncertainty',\n",
       " 'LandMinTemperature',\n",
       " 'LandMinTemperatureUncertainty',\n",
       " 'LandAndOceanAverageTemperature',\n",
       " 'LandAndOceanAverageTemperatureUncertainty']"
      ]
     },
     "execution_count": 30,
     "metadata": {},
     "output_type": "execute_result"
    }
   ],
   "source": [
    "list(df1.columns)"
   ]
  },
  {
   "cell_type": "code",
   "execution_count": 31,
   "metadata": {},
   "outputs": [
    {
     "data": {
      "text/plain": [
       "dt                                            object\n",
       "LandAverageTemperature                       float64\n",
       "LandAverageTemperatureUncertainty            float64\n",
       "LandMaxTemperature                           float64\n",
       "LandMaxTemperatureUncertainty                float64\n",
       "LandMinTemperature                           float64\n",
       "LandMinTemperatureUncertainty                float64\n",
       "LandAndOceanAverageTemperature               float64\n",
       "LandAndOceanAverageTemperatureUncertainty    float64\n",
       "dtype: object"
      ]
     },
     "execution_count": 31,
     "metadata": {},
     "output_type": "execute_result"
    }
   ],
   "source": [
    "df1.dtypes"
   ]
  },
  {
   "cell_type": "code",
   "execution_count": 32,
   "metadata": {},
   "outputs": [],
   "source": [
    "df1.dt=pd.to_datetime(df1.dt, errors='coerce')"
   ]
  },
  {
   "cell_type": "code",
   "execution_count": 33,
   "metadata": {},
   "outputs": [
    {
     "data": {
      "text/plain": [
       "dt                                           datetime64[ns]\n",
       "LandAverageTemperature                              float64\n",
       "LandAverageTemperatureUncertainty                   float64\n",
       "LandMaxTemperature                                  float64\n",
       "LandMaxTemperatureUncertainty                       float64\n",
       "LandMinTemperature                                  float64\n",
       "LandMinTemperatureUncertainty                       float64\n",
       "LandAndOceanAverageTemperature                      float64\n",
       "LandAndOceanAverageTemperatureUncertainty           float64\n",
       "dtype: object"
      ]
     },
     "execution_count": 33,
     "metadata": {},
     "output_type": "execute_result"
    }
   ],
   "source": [
    "df1.dtypes"
   ]
  },
  {
   "cell_type": "code",
   "execution_count": 34,
   "metadata": {},
   "outputs": [
    {
     "data": {
      "text/plain": [
       "<bound method NDFrame.describe of              dt  LandAverageTemperature  LandAverageTemperatureUncertainty  \\\n",
       "0    1750-01-01                   3.034                              3.574   \n",
       "1    1750-02-01                   3.083                              3.702   \n",
       "2    1750-03-01                   5.626                              3.076   \n",
       "3    1750-04-01                   8.490                              2.451   \n",
       "4    1750-05-01                  11.573                              2.072   \n",
       "...         ...                     ...                                ...   \n",
       "3187 2015-08-01                  14.755                              0.072   \n",
       "3188 2015-09-01                  12.999                              0.079   \n",
       "3189 2015-10-01                  10.801                              0.102   \n",
       "3190 2015-11-01                   7.433                              0.119   \n",
       "3191 2015-12-01                   5.518                              0.100   \n",
       "\n",
       "      LandMaxTemperature  LandMaxTemperatureUncertainty  LandMinTemperature  \\\n",
       "0                    NaN                            NaN                 NaN   \n",
       "1                    NaN                            NaN                 NaN   \n",
       "2                    NaN                            NaN                 NaN   \n",
       "3                    NaN                            NaN                 NaN   \n",
       "4                    NaN                            NaN                 NaN   \n",
       "...                  ...                            ...                 ...   \n",
       "3187              20.699                          0.110               9.005   \n",
       "3188              18.845                          0.088               7.199   \n",
       "3189              16.450                          0.059               5.232   \n",
       "3190              12.892                          0.093               2.157   \n",
       "3191              10.725                          0.154               0.287   \n",
       "\n",
       "      LandMinTemperatureUncertainty  LandAndOceanAverageTemperature  \\\n",
       "0                               NaN                             NaN   \n",
       "1                               NaN                             NaN   \n",
       "2                               NaN                             NaN   \n",
       "3                               NaN                             NaN   \n",
       "4                               NaN                             NaN   \n",
       "...                             ...                             ...   \n",
       "3187                          0.170                          17.589   \n",
       "3188                          0.229                          17.049   \n",
       "3189                          0.115                          16.290   \n",
       "3190                          0.106                          15.252   \n",
       "3191                          0.099                          14.774   \n",
       "\n",
       "      LandAndOceanAverageTemperatureUncertainty  \n",
       "0                                           NaN  \n",
       "1                                           NaN  \n",
       "2                                           NaN  \n",
       "3                                           NaN  \n",
       "4                                           NaN  \n",
       "...                                         ...  \n",
       "3187                                      0.057  \n",
       "3188                                      0.058  \n",
       "3189                                      0.062  \n",
       "3190                                      0.063  \n",
       "3191                                      0.062  \n",
       "\n",
       "[3192 rows x 9 columns]>"
      ]
     },
     "execution_count": 34,
     "metadata": {},
     "output_type": "execute_result"
    }
   ],
   "source": [
    "df1.describe"
   ]
  },
  {
   "cell_type": "code",
   "execution_count": 35,
   "metadata": {},
   "outputs": [],
   "source": [
    "df2=df1.groupby([\"dt\",\"LandMaxTemperature\"]).count()"
   ]
  },
  {
   "cell_type": "code",
   "execution_count": 50,
   "metadata": {
    "scrolled": true
   },
   "outputs": [
    {
     "data": {
      "text/plain": [
       "<matplotlib.axes._subplots.AxesSubplot at 0x7f7610a6a898>"
      ]
     },
     "execution_count": 50,
     "metadata": {},
     "output_type": "execute_result"
    },
    {
     "data": {
      "image/png": "[encoded data removed]",
      "text/plain": [
       "<Figure size 432x288 with 1 Axes>"
      ]
     },
     "metadata": {
      "needs_background": "light"
     },
     "output_type": "display_data"
    }
   ],
   "source": [
    "df2.plot()"
   ]
  },
  {
   "cell_type": "code",
   "execution_count": null,
   "metadata": {},
   "outputs": [],
   "source": [
    "df1.dtypes"
   ]
  },
  {
   "cell_type": "code",
   "execution_count": 51,
   "metadata": {
    "scrolled": false
   },
   "outputs": [
    {
     "data": {
      "image/png": "[encoded data removed]",
      "text/plain": [
       "<Figure size 432x288 with 1 Axes>"
      ]
     },
     "metadata": {
      "needs_background": "light"
     },
     "output_type": "display_data"
    }
   ],
   "source": [
    "df1.groupby(['dt'])['LandMaxTemperature', 'LandMinTemperature'].mean().plot().kind = 'line'"
   ]
  },
  {
   "cell_type": "code",
   "execution_count": 62,
   "metadata": {},
   "outputs": [
    {
     "data": {
      "text/plain": [
       "dt                                           datetime64[ns]\n",
       "LandAverageTemperature                              float64\n",
       "LandAverageTemperatureUncertainty                   float64\n",
       "LandMaxTemperature                                  float64\n",
       "LandMaxTemperatureUncertainty                       float64\n",
       "LandMinTemperature                                  float64\n",
       "LandMinTemperatureUncertainty                       float64\n",
       "LandAndOceanAverageTemperature                      float64\n",
       "LandAndOceanAverageTemperatureUncertainty           float64\n",
       "dtype: object"
      ]
     },
     "execution_count": 62,
     "metadata": {},
     "output_type": "execute_result"
    }
   ],
   "source": [
    "df1.dtypes"
   ]
  },
  {
   "cell_type": "code",
   "execution_count": 68,
   "metadata": {},
   "outputs": [
    {
     "data": {
      "text/plain": [
       "<matplotlib.axes._subplots.AxesSubplot at 0x7f76101918d0>"
      ]
     },
     "execution_count": 68,
     "metadata": {},
     "output_type": "execute_result"
    },
    {
     "data": {
      "image/png": "[encoded data removed]",
      "text/plain": [
       "<Figure size 432x288 with 1 Axes>"
      ]
     },
     "metadata": {
      "needs_background": "light"
     },
     "output_type": "display_data"
    }
   ],
   "source": [
    "from pandas import DataFrame\n",
    "   \n",
    "Data = {'Year': [1920,1930,1940,1950,1960,1970,1980,1990,2000,2010],\n",
    "        'Unemployment_Rate': [9.8,12,8,7.2,6.9,7,6.5,6.2,5.5,6.3]\n",
    "       }\n",
    "  \n",
    "df = DataFrame(Data,columns=['Year','Unemployment_Rate'])\n",
    "df.plot(x ='Year', y='Unemployment_Rate', kind = 'line')"
   ]
  },
  {
   "cell_type": "code",
   "execution_count": 70,
   "metadata": {},
   "outputs": [
    {
     "ename": "SyntaxError",
     "evalue": "invalid token (<ipython-input-70-41367368046d>, line 1)",
     "output_type": "error",
     "traceback": [
      "\u001b[0;36m  File \u001b[0;32m\"<ipython-input-70-41367368046d>\"\u001b[0;36m, line \u001b[0;32m1\u001b[0m\n\u001b[0;31m    df1[1969-01].LandMaxTemprature\u001b[0m\n\u001b[0m              ^\u001b[0m\n\u001b[0;31mSyntaxError\u001b[0m\u001b[0;31m:\u001b[0m invalid token\n"
     ]
    }
   ],
   "source": [
    "df1[1969-01].LandMaxTemprature"
   ]
  },
  {
   "cell_type": "code",
   "execution_count": 71,
   "metadata": {},
   "outputs": [
    {
     "data": {
      "text/plain": [
       "RangeIndex(start=0, stop=3192, step=1)"
      ]
     },
     "execution_count": 71,
     "metadata": {},
     "output_type": "execute_result"
    }
   ],
   "source": [
    "df1.index"
   ]
  },
  {
   "cell_type": "code",
   "execution_count": null,
   "metadata": {},
   "outputs": [],
   "source": []
  }
 ],
 "metadata": {
  "kernelspec": {
   "display_name": "Python 3",
   "language": "python",
   "name": "python3"
  },
  "language_info": {
   "codemirror_mode": {
    "name": "ipython",
    "version": 3
   },
   "file_extension": ".py",
   "mimetype": "text/x-python",
   "name": "python",
   "nbconvert_exporter": "python",
   "pygments_lexer": "ipython3",
   "version": "3.6.8"
  }
 },
 "nbformat": 4,
 "nbformat_minor": 2
}
